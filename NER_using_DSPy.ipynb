{
 "cells": [
  {
   "cell_type": "markdown",
   "id": "444b61a0-a5af-4e92-bb87-f8ad31429068",
   "metadata": {},
   "source": [
    "# NER using `DSPy`\n",
    "In this notebook, we want to try to evaluate and use [DSPy](https://dspy-docs.vercel.app/) for *Named Entity Recognition* (NER) use cases. This uses LLMs.\n",
    "\n",
    "DSPy:\n",
    "> DSPy is a framework for algorithmically **optimizing** LM **prompts** and **weights**, mainly when LMs are used one or more times within a pipeline\n",
    "\n",
    "Some *prompt engineering* techniques that are useful for *NER* problems are:\n",
    "* Function/tools calling\n",
    "* Zero/few-shot examples using `domain` instructions\n",
    "* Chain-of-Thought (CoT) prompting\n",
    "* Prompt-CHaining\n",
    "\n",
    "We want to build a data extraction system using NER to extract food-related entities from online recipes. \n",
    "\n",
    "We are interested in the following entities:\n",
    "* `FOOD`\n",
    "* `QUANTITY`\n",
    "* `UNIT`\n",
    "* `PHYSICAL_QUALITY`\n",
    "* `COLOR`"
   ]
  },
  {
   "cell_type": "markdown",
   "id": "e433a850-f859-4807-9ee2-fa690ce9a45d",
   "metadata": {},
   "source": [
    "# 0. Setup environment"
   ]
  },
  {
   "cell_type": "code",
   "execution_count": 1,
   "id": "b316f6ba-2c4f-4912-9f49-64c9f873fb31",
   "metadata": {},
   "outputs": [],
   "source": [
    "import dspy\n",
    "import nest_asyncio\n",
    "from pydantic import BaseModel, Field\n",
    "from IPython.display import Markdown, display\n",
    "from typing import List, Optional, Union\n",
    "from dotenv import load_dotenv\n",
    "from devtools import pprint"
   ]
  },
  {
   "cell_type": "markdown",
   "id": "472b3c11-a5b3-493c-83ab-c110736da1f9",
   "metadata": {},
   "source": [
    "Load env variables see `.env.example`"
   ]
  },
  {
   "cell_type": "markdown",
   "id": "b4ad9ed0-6668-4d4c-bcb4-e69a695e02e4",
   "metadata": {},
   "source": [
    "Init some selected LLMs"
   ]
  },
  {
   "cell_type": "code",
   "execution_count": 2,
   "id": "5034d414-a627-4ded-bbb1-d7b1e3ff5dc1",
   "metadata": {},
   "outputs": [],
   "source": [
    "import dspy\n",
    "lm = dspy.LM(model=\"ollama_chat/llama3.2:latest\",timeout_s = 180)\n",
    "\n",
    "dspy.configure(lm=lm)"
   ]
  },
  {
   "cell_type": "markdown",
   "id": "668f67b3-27ca-41a3-95be-7eb8f1e3da13",
   "metadata": {},
   "source": [
    "Configure `DSPy` to use `gpt-3.5-turbo` as default"
   ]
  },
  {
   "cell_type": "code",
   "execution_count": 3,
   "id": "69c6f971-357c-4274-bb0a-681566753ce7",
   "metadata": {},
   "outputs": [],
   "source": [
    "dspy.settings.configure(lm=lm)"
   ]
  },
  {
   "cell_type": "markdown",
   "id": "f10be9d8-6a1e-476c-90f1-1123cce4f9a1",
   "metadata": {},
   "source": [
    "# 1. Loading data"
   ]
  },
  {
   "cell_type": "code",
   "execution_count": 4,
   "id": "7af89deb-4c80-4c0e-8696-36ff82c64e1c",
   "metadata": {},
   "outputs": [],
   "source": [
    "with open(\"./data/recipe.md\", \"r\") as f:\n",
    "    train_data = f.read()"
   ]
  },
  {
   "cell_type": "code",
   "execution_count": 5,
   "id": "ac5b0f5c-af67-44ef-b59a-07472319fb66",
   "metadata": {
    "scrolled": true
   },
   "outputs": [
    {
     "data": {
      "text/markdown": [
       "### Chashu pork (for ramen and more)\n",
       "Chashu pork is a classic way to prepare pork belly for Japanese dishes such as ramen. While it takes a little time, it's relatively hands off and easy, and the result is delicious.\n",
       "\n",
       "### Prep Time\n",
       "15 minutes\n",
       "\n",
       "### Cook Time\n",
       "2hours 5minutes\n",
       "\n",
       "### Rest time (approx)\n",
       "12 hours hrs\n",
       "\n",
       "### Total Time\n",
       "2 hours 20 minutes \n",
       "\n",
       "### Course\n",
       "Main Course\n",
       "\n",
       "###\n",
       "Cuisine\n",
       "Japanese \n",
       "\n",
       "### Servings\n",
       "4 or more, depending how used \n",
       "\n",
       "### Calories: 1378kcal \n",
       "\n",
       "### Author: Caroline's Cooking \n",
       "\n",
       "\n",
       "### Ingredients\n",
       "* 2 lb pork belly or a little more/less\n",
       "* 2 green onions spring onions, or 3 if small\n",
       "* 1 in fresh ginger (a chunk that will give around 4 - 6 slices)\n",
       "* 2 cloves garlic\n",
       "* ⅔ cup sake\n",
       "* ⅔ cup soy sauce\n",
       "* ¼ cup mirin\n",
       "* ½ cup sugar\n",
       "* 2 cups water or a little more as needed\n",
       "\n",
       "US Customary - Metric\n",
       "\n",
       "### Instructions\n",
       "1. Have some string/kitchen twine ready and a pair of scissors before you prepare the pork. If needed, trim excess fat from the outside of the pork but you still want a later over the meat itself. Roll the piece of pork belly with the fatter end in the middle, and the flatter part making the roll around it. It may be a little tricky to hold together, but try your best as you tie it. Loop a piece of string around one end of the rolled pork and tie it in a double knot so that it holds the pork together. Then, taker the long end of the string and make additional loops around the pork, around ⅔in/2cm apart (or closer), looping through as you go and tightening to make a row of loops, linked together, along the roll. Then loop through over both ends so that it holds the ends in a little better as well and tie off and cut the string. (See pictures and video if you need a bit more guidance on how.)\n",
       "   \n",
       "2. Cut the piece of ginger into slices - there's no need to peel it. Peel and trim the ends from the garlic. Trim both ends off the green/spring onions and cut into long lengths.\n",
       "\n",
       "3. Warm a skillet/frying pan large enough to hold the pork but not much bigger, ideally cast iron or at least heavy based. Then sear the pork on all sides to gently brown and seal the pork and fat, including the ends. Start with a fatty side so that some of the fat releases to help with the searing. Once browned all over, remove from skillet and set aside. You can discard the excess fat that has come out.\n",
       "\n",
       "4. Meanwhile, place the sake, soy sauce, mirin, sugar, water and the prepared ginger, garlic and green onions in a pot. You want a pot that is just a little wider than the piece of rolled pork so that it will be mostly covered by the liquid once added. Place over a medium heat, covered, and bring to a simmer, stirring now and then to ensure sugar dissolves.\n",
       "\n",
       "5. Once the sake-soy mixture is simmering, and you have seared the pork, add the pork into the liquid. The liquid should be at least ⅔ up the pork, if not a little more - you can add a little more water if needed. Cover with the lid and bring back to a simmer then reduce the heat so that it simmers gently. Cook for about two hours, turning roughly every 30 minutes so that each side is submerged half the time. If the liquid gets below halfway, then add a little more water.\n",
       "\n",
       "6. After two hours, the pork will be cooked through and should be fairly tender. Turn off the heat and leave the pork to cool in the cooking liquid at least 10 minutes, but you can leave until room temperature. Once cool, remove the pork and set aside a minute. Strain the cooking liquid into a measuring jug to remove the ginger etc. Let it sit a few minutes so that the fat floats to the top then spoon off the fat and discard.\n",
       "\n",
       "7. Place the pork inside a freezer bag, just a little bigger than the pork itself, and sit it in a dish in case of any spills. Then, pour some of the cooking liquid into the bag so that the pork is submerged. Carefully remove excess air from the bag, seal up and then place in the fridge overnight. Don't skip this step, as it helps the pork firm up, but also tenderize further and take in more flavor.\n",
       "\n",
       "8. The next day, when ready to use, carefully take the pork out of the liquid and remove any fat that has solidified on it (that's not park of the pork belly itself). Cut off the string then cut the pork into relatively thin slices, so that you get coiled pieces of the pork belly.\n",
       "\n",
       "9. To prepare it to top ramen, warm some of the cooking liquid in a skillet and then add the pork, a few slices at a time so that they form a single layer. Simmer a couple minutes, carefully turning as needed, so that the pork warms through and gently caramelizes in the liquid. For chashu fried rice, you will instead want to chop the pork further and then fry, along with the rice."
      ],
      "text/plain": [
       "<IPython.core.display.Markdown object>"
      ]
     },
     "metadata": {},
     "output_type": "display_data"
    }
   ],
   "source": [
    "display(Markdown(train_data))"
   ]
  },
  {
   "cell_type": "code",
   "execution_count": 6,
   "id": "547d6e50-7d2a-498e-afc7-66dffc90ede4",
   "metadata": {},
   "outputs": [
    {
     "name": "stdout",
     "output_type": "stream",
     "text": [
      "### Chashu pork (for ramen and more)\n",
      "Chashu pork is a classic way to prepare pork belly for Japanese\n"
     ]
    }
   ],
   "source": [
    "print(train_data[0:100])"
   ]
  },
  {
   "cell_type": "markdown",
   "id": "74463b70-3359-4769-852b-622983623814",
   "metadata": {},
   "source": [
    "# 2. Define `data models`\n",
    "We use `pydantic` to define the output schema of the data that we want to extract using the `DSPy` program. This in order to be able to use the [TypedPredictor](https://dspy-docs.vercel.app/docs/building-blocks/typed_predictors). The data model we will define will be called `FoodEntity` and `FoodEntities`."
   ]
  },
  {
   "cell_type": "code",
   "execution_count": 7,
   "id": "644a4243-afbd-4f0e-9af0-21c83931feed",
   "metadata": {},
   "outputs": [],
   "source": [
    "class FoodMetaData(BaseModel):\n",
    "    reasoning: str = Field(description=\"Reasoning for why the entity is correct\")\n",
    "    value: Union[str, int] = Field(description=\"Value of the entity\")\n",
    "    entity: str = Field(description=\"The actual entity i.e. pork, onions etc\")\n",
    "\n",
    "class FoodMetaDatas(BaseModel):\n",
    "    context: List[FoodMetaData]"
   ]
  },
  {
   "cell_type": "code",
   "execution_count": 8,
   "id": "86c0682e-e715-4480-aa6f-62734fb291c4",
   "metadata": {},
   "outputs": [
    {
     "data": {
      "text/plain": [
       "{'properties': {'reasoning': {'description': 'Reasoning for why the entity is correct',\n",
       "   'title': 'Reasoning',\n",
       "   'type': 'string'},\n",
       "  'value': {'anyOf': [{'type': 'string'}, {'type': 'integer'}],\n",
       "   'description': 'Value of the entity',\n",
       "   'title': 'Value'},\n",
       "  'entity': {'description': 'The actual entity i.e. pork, onions etc',\n",
       "   'title': 'Entity',\n",
       "   'type': 'string'}},\n",
       " 'required': ['reasoning', 'value', 'entity'],\n",
       " 'title': 'FoodMetaData',\n",
       " 'type': 'object'}"
      ]
     },
     "execution_count": 8,
     "metadata": {},
     "output_type": "execute_result"
    }
   ],
   "source": [
    "FoodMetaData.model_json_schema()"
   ]
  },
  {
   "cell_type": "code",
   "execution_count": 9,
   "id": "a04c6297-c3b7-47f1-8845-e572e58221b2",
   "metadata": {},
   "outputs": [
    {
     "data": {
      "text/plain": [
       "{'$defs': {'FoodMetaData': {'properties': {'reasoning': {'description': 'Reasoning for why the entity is correct',\n",
       "     'title': 'Reasoning',\n",
       "     'type': 'string'},\n",
       "    'value': {'anyOf': [{'type': 'string'}, {'type': 'integer'}],\n",
       "     'description': 'Value of the entity',\n",
       "     'title': 'Value'},\n",
       "    'entity': {'description': 'The actual entity i.e. pork, onions etc',\n",
       "     'title': 'Entity',\n",
       "     'type': 'string'}},\n",
       "   'required': ['reasoning', 'value', 'entity'],\n",
       "   'title': 'FoodMetaData',\n",
       "   'type': 'object'}},\n",
       " 'properties': {'context': {'items': {'$ref': '#/$defs/FoodMetaData'},\n",
       "   'title': 'Context',\n",
       "   'type': 'array'}},\n",
       " 'required': ['context'],\n",
       " 'title': 'FoodMetaDatas',\n",
       " 'type': 'object'}"
      ]
     },
     "execution_count": 9,
     "metadata": {},
     "output_type": "execute_result"
    }
   ],
   "source": [
    "FoodMetaDatas.model_json_schema()"
   ]
  },
  {
   "cell_type": "code",
   "execution_count": 10,
   "id": "fb36e31c-8899-449b-ac35-83abf22c085e",
   "metadata": {},
   "outputs": [],
   "source": [
    "class FoodEntity(BaseModel):\n",
    "    food: str = Field(description=\"This can be both liquid and solid food such as meat, vegetables, alcohol, etc\")\n",
    "    quantity: int = Field(description=\"The exact quantity or amount of the food that should be used in the recipe\")\n",
    "    unit: str = Field(description=\"The unit being used e.g. grams, milliliters, pounds, etc\")\n",
    "    physical_quality: Optional[str] = Field(description=\"The characteristic of the ingredient\")\n",
    "    color: str = Field(description=\"The color of the food\")\n",
    "\n",
    "class FoodEntities(BaseModel):\n",
    "    entities: List[FoodEntity]"
   ]
  },
  {
   "cell_type": "markdown",
   "id": "9a9001ed-35ea-4b31-8e5a-d596fdd1447e",
   "metadata": {},
   "source": [
    "The schemas above define our desired output format, a JSON object with one or several `FoodEntities`. Notice that we set some validation checks as part of the schema. This is mainly for demonstration purposes."
   ]
  },
  {
   "cell_type": "code",
   "execution_count": 11,
   "id": "584844d7-840e-4a41-ae56-77a3d8742595",
   "metadata": {},
   "outputs": [
    {
     "data": {
      "text/plain": [
       "{'properties': {'food': {'description': 'This can be both liquid and solid food such as meat, vegetables, alcohol, etc',\n",
       "   'title': 'Food',\n",
       "   'type': 'string'},\n",
       "  'quantity': {'description': 'The exact quantity or amount of the food that should be used in the recipe',\n",
       "   'title': 'Quantity',\n",
       "   'type': 'integer'},\n",
       "  'unit': {'description': 'The unit being used e.g. grams, milliliters, pounds, etc',\n",
       "   'title': 'Unit',\n",
       "   'type': 'string'},\n",
       "  'physical_quality': {'anyOf': [{'type': 'string'}, {'type': 'null'}],\n",
       "   'description': 'The characteristic of the ingredient',\n",
       "   'title': 'Physical Quality'},\n",
       "  'color': {'description': 'The color of the food',\n",
       "   'title': 'Color',\n",
       "   'type': 'string'}},\n",
       " 'required': ['food', 'quantity', 'unit', 'physical_quality', 'color'],\n",
       " 'title': 'FoodEntity',\n",
       " 'type': 'object'}"
      ]
     },
     "execution_count": 11,
     "metadata": {},
     "output_type": "execute_result"
    }
   ],
   "source": [
    "FoodEntity.model_json_schema()"
   ]
  },
  {
   "cell_type": "code",
   "execution_count": 12,
   "id": "bf6f0b0f-ddb4-413e-9f73-6e888a11f2da",
   "metadata": {},
   "outputs": [
    {
     "data": {
      "text/plain": [
       "{'$defs': {'FoodEntity': {'properties': {'food': {'description': 'This can be both liquid and solid food such as meat, vegetables, alcohol, etc',\n",
       "     'title': 'Food',\n",
       "     'type': 'string'},\n",
       "    'quantity': {'description': 'The exact quantity or amount of the food that should be used in the recipe',\n",
       "     'title': 'Quantity',\n",
       "     'type': 'integer'},\n",
       "    'unit': {'description': 'The unit being used e.g. grams, milliliters, pounds, etc',\n",
       "     'title': 'Unit',\n",
       "     'type': 'string'},\n",
       "    'physical_quality': {'anyOf': [{'type': 'string'}, {'type': 'null'}],\n",
       "     'description': 'The characteristic of the ingredient',\n",
       "     'title': 'Physical Quality'},\n",
       "    'color': {'description': 'The color of the food',\n",
       "     'title': 'Color',\n",
       "     'type': 'string'}},\n",
       "   'required': ['food', 'quantity', 'unit', 'physical_quality', 'color'],\n",
       "   'title': 'FoodEntity',\n",
       "   'type': 'object'}},\n",
       " 'properties': {'entities': {'items': {'$ref': '#/$defs/FoodEntity'},\n",
       "   'title': 'Entities',\n",
       "   'type': 'array'}},\n",
       " 'required': ['entities'],\n",
       " 'title': 'FoodEntities',\n",
       " 'type': 'object'}"
      ]
     },
     "execution_count": 12,
     "metadata": {},
     "output_type": "execute_result"
    }
   ],
   "source": [
    "FoodEntities.model_json_schema()"
   ]
  },
  {
   "cell_type": "markdown",
   "id": "5c86e04b-0108-4a37-bf3f-e7a566d9451b",
   "metadata": {},
   "source": [
    "# 3. DSPy Program for NER\n",
    "A `DSPy` program consists of `Signatures` and `Modules.` These can then be optimized using `Teleprompters` and finally be compiled by the `Compiler.` This by using data for your program.\n",
    "\n",
    "A **signature** consists of three simple elements:\n",
    "\n",
    "> A minimal description of the sub-task the LM is supposed to solve.\n",
    "A description of one or more input fields (e.g., input question) that we will give to the LM.\n",
    "A description of one or more output fields (e.g., the question's answer) that we will expect from the LM\n",
    "\n",
    "In our case we will be using a `Typed Signature` as we want the LLM to follow our pydantic schema."
   ]
  },
  {
   "cell_type": "markdown",
   "id": "a843c23c-b909-4757-95f8-13eba614ba71",
   "metadata": {},
   "source": [
    "### 1. Create `Signature`\n",
    "Looking in to the code of `DSPy` the `InputField` and `OutPutFields` some to be wrappers for the `Field` object in `Pydantic`. See more [here](https://github.com/stanfordnlp/dspy/blob/main/dspy/signatures/field.py#L29)"
   ]
  },
  {
   "cell_type": "code",
   "execution_count": 13,
   "id": "cbcd92dc-06c7-4fe2-84cf-bbd7855cd166",
   "metadata": {},
   "outputs": [],
   "source": [
    "class RecipeToFoodContext(dspy.Signature):\n",
    "    \"\"\"You are a food AI assistant. Your task is to extract the entity, the value of the entity and the reasoning \n",
    "    for why the extracted value is the correct value. If you cannot extract the entity, add null\"\"\"\n",
    "    recipe: str = dspy.InputField()\n",
    "    context: FoodMetaDatas = dspy.OutputField()"
   ]
  },
  {
   "cell_type": "code",
   "execution_count": 14,
   "id": "fee24789-ac56-43d7-a46b-64a811dcd9a3",
   "metadata": {},
   "outputs": [],
   "source": [
    "class RecipeToFoodEntities(dspy.Signature):\n",
    "    \"\"\"You are a food AI assistant. Your task is to extract food-related metadata from recipes.\"\"\"\n",
    "    recipe: str = dspy.InputField()\n",
    "    entities: FoodEntities = dspy.OutputField()"
   ]
  },
  {
   "cell_type": "markdown",
   "id": "c76e649b-11f2-4899-91c3-59c1b8ef5053",
   "metadata": {},
   "source": [
    "Let's try the `TypedPredictor` with some dummy example"
   ]
  },
  {
   "cell_type": "code",
   "execution_count": 15,
   "id": "86cceb20-b6dd-4593-8f86-7d4ee537bdc6",
   "metadata": {},
   "outputs": [],
   "source": [
    "predictor_context = dspy.Predict(RecipeToFoodContext)"
   ]
  },
  {
   "cell_type": "code",
   "execution_count": 16,
   "id": "4bc216c9-3ff4-4a1e-a585-1064b412bcb3",
   "metadata": {},
   "outputs": [
    {
     "name": "stdout",
     "output_type": "stream",
     "text": [
      "FoodMetaDatas(\n",
      "    context=[\n",
      "        FoodMetaData(\n",
      "            reasoning='A type of cheese commonly used in recipes.',\n",
      "            value='10 grams',\n",
      "            entity='orange dutch cheese',\n",
      "        ),\n",
      "        FoodMetaData(\n",
      "            reasoning='A common ingredient in many recipes.',\n",
      "            value='2 liters',\n",
      "            entity='water',\n",
      "        ),\n",
      "        FoodMetaData(\n",
      "            reasoning='Used to chill the mixture in this recipe.',\n",
      "            value='5 ml',\n",
      "            entity='ice',\n",
      "        ),\n",
      "    ],\n",
      ")\n"
     ]
    }
   ],
   "source": [
    "with dspy.context(lm=lm):\n",
    "    dummy_context = predictor_context(recipe=\"Ten grams of orange dutch cheese, 2 liters of water and 5 ml of ice\")\n",
    "    pprint(dummy_context.context)"
   ]
  },
  {
   "cell_type": "code",
   "execution_count": 17,
   "id": "2b3a8872-6963-482a-9663-7a9ce90bc92f",
   "metadata": {
    "scrolled": true
   },
   "outputs": [
    {
     "name": "stdout",
     "output_type": "stream",
     "text": [
      "\n",
      "\n",
      "\n",
      "\n",
      "\u001b[34m[2025-07-01T08:55:07.018073]\u001b[0m\n",
      "\n",
      "\u001b[31mSystem message:\u001b[0m\n",
      "\n",
      "Your input fields are:\n",
      "1. `recipe` (str):\n",
      "Your output fields are:\n",
      "1. `context` (FoodMetaDatas):\n",
      "All interactions will be structured in the following way, with the appropriate values filled in.\n",
      "\n",
      "[[ ## recipe ## ]]\n",
      "{recipe}\n",
      "\n",
      "[[ ## context ## ]]\n",
      "{context}        # note: the value you produce must adhere to the JSON schema: {\"type\": \"object\", \"$defs\": {\"FoodMetaData\": {\"type\": \"object\", \"properties\": {\"entity\": {\"type\": \"string\", \"description\": \"The actual entity i.e. pork, onions etc\", \"title\": \"Entity\"}, \"reasoning\": {\"type\": \"string\", \"description\": \"Reasoning for why the entity is correct\", \"title\": \"Reasoning\"}, \"value\": {\"anyOf\": [{\"type\": \"string\"}, {\"type\": \"integer\"}], \"description\": \"Value of the entity\", \"title\": \"Value\"}}, \"required\": [\"reasoning\", \"value\", \"entity\"], \"title\": \"FoodMetaData\"}}, \"properties\": {\"context\": {\"type\": \"array\", \"items\": {\"$ref\": \"#/$defs/FoodMetaData\"}, \"title\": \"Context\"}}, \"required\": [\"context\"], \"title\": \"FoodMetaDatas\"}\n",
      "\n",
      "[[ ## completed ## ]]\n",
      "In adhering to this structure, your objective is: \n",
      "        You are a food AI assistant. Your task is to extract the entity, the value of the entity and the reasoning \n",
      "        for why the extracted value is the correct value. If you cannot extract the entity, add null\n",
      "\n",
      "\n",
      "\u001b[31mUser message:\u001b[0m\n",
      "\n",
      "[[ ## recipe ## ]]\n",
      "Ten grams of orange dutch cheese, 2 liters of water and 5 ml of ice\n",
      "\n",
      "Respond with the corresponding output fields, starting with the field `[[ ## context ## ]]` (must be formatted as a valid Python FoodMetaDatas), and then ending with the marker for `[[ ## completed ## ]]`.\n",
      "\n",
      "\n",
      "\u001b[31mResponse:\u001b[0m\n",
      "\n",
      "\u001b[32m[[ ## context ## ]]\n",
      "{\n",
      "    \"context\": [\n",
      "        {\n",
      "            \"entity\": \"orange dutch cheese\",\n",
      "            \"reasoning\": \"A type of cheese commonly used in recipes.\",\n",
      "            \"value\": \"10 grams\"\n",
      "        },\n",
      "        {\n",
      "            \"entity\": \"water\",\n",
      "            \"reasoning\": \"A common ingredient in many recipes.\",\n",
      "            \"value\": \"2 liters\"\n",
      "        },\n",
      "        {\n",
      "            \"entity\": \"ice\",\n",
      "            \"reasoning\": \"Used to chill the mixture in this recipe.\",\n",
      "            \"value\": \"5 ml\"\n",
      "        }\n",
      "    ]\n",
      "}\n",
      "\n",
      "[[ ## completed ## ]]\u001b[0m\n",
      "\n",
      "\n",
      "\n",
      "\n",
      "\n"
     ]
    }
   ],
   "source": [
    "lm.inspect_history(n=1)"
   ]
  },
  {
   "cell_type": "code",
   "execution_count": 18,
   "id": "e85c478a-275d-4628-95cb-170ef1abee76",
   "metadata": {},
   "outputs": [],
   "source": [
    "#predictor = dspy.Predict(RecipeToFoodEntities)"
   ]
  },
  {
   "cell_type": "code",
   "execution_count": 19,
   "id": "e601e159-5aec-48f6-89a3-40638b1fd29f",
   "metadata": {},
   "outputs": [],
   "source": [
    "# Run with GPT-4 instead\n",
    "#with dspy.context(lm=lm):\n",
    "#    dummy_recipe = predictor(recipe=\"Ten grams of orange dutch cheese, 2 liters of water and 5 ml of ice\")\n",
    "#    pprint(dummy_recipe.entities)"
   ]
  },
  {
   "cell_type": "markdown",
   "id": "e060aa52-70ea-407b-ac75-a55f521e83d1",
   "metadata": {},
   "source": [
    "Using `inspect_history` below, we can take a look a the resulting prompt that is created"
   ]
  },
  {
   "cell_type": "code",
   "execution_count": 20,
   "id": "dd6f8e03-440a-45fa-b413-bce22f9c3119",
   "metadata": {},
   "outputs": [],
   "source": [
    "#gpt4.inspect_history(n=1)"
   ]
  },
  {
   "cell_type": "markdown",
   "id": "9fdf0955-b431-473f-b7b7-0cbd1cb29179",
   "metadata": {},
   "source": [
    "## 2. Create the `Module`\n",
    "A DSPy module is a building block for programs that use LMs.\n",
    "\n",
    "> Each built-in module abstracts a prompting technique (like chain of thought or ReAct). Crucially, they are generalized to handle any [DSPy Signature].\n",
    "\n",
    "> Your __init__ method declares the modules you will use.\n",
    "\n",
    "> Your forward method expresses any computation you want to do with your modules"
   ]
  },
  {
   "cell_type": "markdown",
   "id": "f9ec7403-6b1a-4e26-ac5c-671353763607",
   "metadata": {},
   "source": [
    "#### Using `dspy.Module`"
   ]
  },
  {
   "cell_type": "markdown",
   "id": "d56d611c-9722-42d2-921a-90534fedf020",
   "metadata": {},
   "source": [
    "Let's define a helper method i.e. `parse_context` to present the parsed context in a pretty format for the LLM"
   ]
  },
  {
   "cell_type": "code",
   "execution_count": 21,
   "id": "bf00990d-5d82-4711-8aea-4f9c33b316da",
   "metadata": {},
   "outputs": [],
   "source": [
    "def parse_context(food_context: FoodMetaDatas) -> str:\n",
    "    context_str = \"\"\n",
    "    for context in food_context:\n",
    "        context: FoodMetaData\n",
    "        context_str += f\"{context.entity}:\\n\" + context.model_dump_json(indent=4) + \"\\n\"\n",
    "    return context_str"
   ]
  },
  {
   "cell_type": "code",
   "execution_count": 22,
   "id": "10212329-524d-4dd7-989b-ca4b15b1815f",
   "metadata": {},
   "outputs": [],
   "source": [
    "class ExtractFoodEntities(dspy.Module):\n",
    "    def __init__(self, temperature: int = 0, seed: int = 123):\n",
    "        super().__init__()\n",
    "        self.temperature = temperature\n",
    "        self.seed = seed\n",
    "        self.extract_food_context = dspy.Predict(RecipeToFoodContext)\n",
    "        self.extract_food_context_cot = dspy.ChainOfThought(RecipeToFoodContext)\n",
    "        self.extract_food_entities = dspy.Predict(RecipeToFoodEntities)\n",
    "        \n",
    "    def forward(self, recipe: str) -> FoodEntities:\n",
    "        food_context = self.extract_food_context(recipe=recipe).context\n",
    "        parsed_context = parse_context(food_context.context)\n",
    "        food_entities = self.extract_food_entities(recipe=parsed_context)\n",
    "        return food_entities.entities"
   ]
  },
  {
   "cell_type": "code",
   "execution_count": 23,
   "id": "3e9f8da0-8e6c-4008-8a16-2744b670a579",
   "metadata": {},
   "outputs": [
    {
     "name": "stdout",
     "output_type": "stream",
     "text": [
      "FoodEntities(\n",
      "    entities=[\n",
      "        FoodEntity(\n",
      "            food='orange dutch cheese',\n",
      "            quantity=10,\n",
      "            unit='grams',\n",
      "            physical_quality=None,\n",
      "            color='orange',\n",
      "        ),\n",
      "        FoodEntity(\n",
      "            food='water',\n",
      "            quantity=2000,\n",
      "            unit='milliliters',\n",
      "            physical_quality=None,\n",
      "            color='clear',\n",
      "        ),\n",
      "        FoodEntity(\n",
      "            food='ice',\n",
      "            quantity=5,\n",
      "            unit='milliliters',\n",
      "            physical_quality=None,\n",
      "            color='clear',\n",
      "        ),\n",
      "    ],\n",
      ")\n"
     ]
    }
   ],
   "source": [
    "extract_food_entities = ExtractFoodEntities()\n",
    "\n",
    "with dspy.context(lm=lm):\n",
    "    entities = extract_food_entities(recipe=\"Ten grams of orange dutch cheese, 2 liters of water and 5 ml of ice\")\n",
    "    pprint(entities)"
   ]
  },
  {
   "cell_type": "markdown",
   "id": "47eac0ec-a58a-4f1e-a0cc-9028d2eb066e",
   "metadata": {},
   "source": [
    "Test with `train` data"
   ]
  },
  {
   "cell_type": "code",
   "execution_count": 25,
   "id": "e9ab1009-642b-41ab-8f06-690d4b6e9cb7",
   "metadata": {},
   "outputs": [
    {
     "name": "stdout",
     "output_type": "stream",
     "text": [
      "FoodEntities(\n",
      "    entities=[\n",
      "        FoodEntity(\n",
      "            food='pork belly',\n",
      "            quantity=1,\n",
      "            unit='',\n",
      "            physical_quality=None,\n",
      "            color='',\n",
      "        ),\n",
      "        FoodEntity(\n",
      "            food='cooking time',\n",
      "            quantity=2,\n",
      "            unit='hours and minutes',\n",
      "            physical_quality=None,\n",
      "            color='',\n",
      "        ),\n",
      "        FoodEntity(\n",
      "            food='servings',\n",
      "            quantity=4,\n",
      "            unit='',\n",
      "            physical_quality=None,\n",
      "            color='',\n",
      "        ),\n",
      "    ],\n",
      ")\n"
     ]
    }
   ],
   "source": [
    "with dspy.context(lm=lm):\n",
    "    entities = extract_food_entities(recipe=train_data)\n",
    "    pprint(entities)"
   ]
  },
  {
   "cell_type": "code",
   "execution_count": 26,
   "id": "9e573ee1-324f-4e8b-805d-dc773d01cc4f",
   "metadata": {},
   "outputs": [
    {
     "data": {
      "text/plain": [
       "[FoodEntity(food='pork belly', quantity=1, unit='', physical_quality=None, color=''),\n",
       " FoodEntity(food='cooking time', quantity=2, unit='hours and minutes', physical_quality=None, color=''),\n",
       " FoodEntity(food='servings', quantity=4, unit='', physical_quality=None, color='')]"
      ]
     },
     "execution_count": 26,
     "metadata": {},
     "output_type": "execute_result"
    }
   ],
   "source": [
    "entities.entities"
   ]
  },
  {
   "cell_type": "code",
   "execution_count": 27,
   "id": "54a7a202-1f1f-486c-a75f-8dc6451bdb3e",
   "metadata": {},
   "outputs": [],
   "source": [
    "def validate_entities(example, pred, trace=None):\n",
    "    \"\"\"Check if both objects are equal\"\"\"\n",
    "    return example.entities == pred"
   ]
  },
  {
   "cell_type": "code",
   "execution_count": 28,
   "id": "bd7c1410-3215-468e-8fb3-07c8b7bf1aff",
   "metadata": {},
   "outputs": [],
   "source": [
    "# create some dummy data for training\n",
    "trainset = [\n",
    "    dspy.Example(\n",
    "        recipe=\"French omelett with 2 eggs, 500grams of butter and 10 grams gruyere\", \n",
    "        entities=[\n",
    "            FoodEntity(food=\"eggs\", quantity=2, unit=\"\", physical_quality=\"\", color=\"white\"),\n",
    "            FoodEntity(food=\"butter\", quantity=500, unit=\"grams\", physical_quality=\"\", color=\"yellow\"),\n",
    "            FoodEntity(food=\"cheese\", quantity=10, unit=\"grams\", physical_quality=\"gruyer\", color=\"yellow\")\n",
    "        ]\n",
    "    ).with_inputs(\"recipe\"),\n",
    "    dspy.Example(\n",
    "        recipe=\"200 grams of Ramen noodles bowel with one pickled egg, 500grams of pork, and 1 spring onion\", \n",
    "        entities=[\n",
    "            FoodEntity(food=\"egg\", quantity=1, unit=\"\", physical_quality=\"pickled\", color=\"ivory\"),\n",
    "            FoodEntity(food=\"ramen nudles\", quantity=200, unit=\"grams\", physical_quality=\"\", color=\"yellow\"),\n",
    "            FoodEntity(food=\"spring onion\", quantity=1, unit=\"\", physical_quality=\"\", color=\"white\")\n",
    "        ]\n",
    "    ).with_inputs(\"recipe\"),\n",
    "    dspy.Example(\n",
    "        recipe=\"10 grams of dutch orange cheese, 2 liters of water, and 5 ml of ice\", \n",
    "        entities=[\n",
    "            FoodEntity(food=\"cheese\", quantity=10, unit=\"grams\", physical_quality=\"\", color=\"orange\"),\n",
    "            FoodEntity(food=\"water\", quantity=2, unit=\"liters\", physical_quality=\"translucent\", color=\"\"),\n",
    "            FoodEntity(food=\"ice\", quantity=5, unit=\"militers\", physical_quality=\"cold\", color=\"white\")\n",
    "        ]\n",
    "    ).with_inputs(\"recipe\"),\n",
    "    dspy.Example(\n",
    "        recipe=\"Pasta carbonara, 250 grams of pasta 300 grams of pancetta, \\\n",
    "        150 grams pecorino romano, 150grams parmesan cheese, 3 egg yolks\", \n",
    "        entities=[\n",
    "            FoodEntity(food=\"pasta\", quantity=250, unit=\"grams\", physical_quality=\"dried\", color=\"yellow\"),\n",
    "            FoodEntity(food=\"egg yolk\", quantity=3, unit=\"\", physical_quality=\"\", color=\"orange\"),\n",
    "            FoodEntity(food=\"pancetta\", quantity=300, unit=\"grams\", physical_quality=\"pork\", color=\"\"),\n",
    "            FoodEntity(food=\"pecorino\", quantity=150, unit=\"grams\", physical_quality=\"goat chese\", color=\"yellow\"),\n",
    "            FoodEntity(food=\"parmesan\", quantity=150, unit=\"grams\", physical_quality=\"chese\", color=\"yellow\"),\n",
    "        ]\n",
    "    ).with_inputs(\"recipe\"),\n",
    "    dspy.Example(\n",
    "        recipe=\"American pancakes with 250g flour, 1 tsp baking powder, 1 gram salt, 10g sugar, 100ml fat milk\", \n",
    "        entities=[\n",
    "            FoodEntity(food=\"flour\", quantity=250, unit=\"grams\", physical_quality=\"\", color=\"white\"),\n",
    "            FoodEntity(food=\"baking powder\", quantity=1, unit=\"tsp\", physical_quality=\"\", color=\"white\"),\n",
    "            FoodEntity(food=\"salt\", quantity=1, unit=\"grams\", physical_quality=\"salty\", color=\"white\"),\n",
    "            FoodEntity(food=\"milk\", quantity=100, unit=\"mil\", physical_quality=\"fat\", color=\"white\"),\n",
    "        ]\n",
    "    ).with_inputs(\"recipe\")\n",
    "]"
   ]
  },
  {
   "cell_type": "markdown",
   "id": "fc493060-9f93-4100-9c3c-1e6e2d3ba3ec",
   "metadata": {},
   "source": [
    "For optimizer we are using `BoostrapFewShoot`:\n",
    "> BootstrapFewShot: Uses your program to self-generate complete demonstrations for every stage of your program. Will simply use the generated demonstrations (if they pass the metric) without any further optimization. Advanced: Supports using a teacher program (a different DSPy program that has compatible structure) and a teacher LM, for harder tasks.\n",
    "\n",
    "And when to use this `optimizer`:\n",
    "> If you have very little data, e.g. 10 examples of your task, use BootstrapFewShot.\n"
   ]
  },
  {
   "cell_type": "code",
   "execution_count": 30,
   "id": "93bc091b-a09b-4ce1-b37d-d02d2c81684d",
   "metadata": {},
   "outputs": [
    {
     "name": "stderr",
     "output_type": "stream",
     "text": [
      "100%|█████████████████████████████████████████████████| 5/5 [53:06<00:00, 637.28s/it]"
     ]
    },
    {
     "name": "stdout",
     "output_type": "stream",
     "text": [
      "Bootstrapped 0 full traces after 4 examples for up to 1 rounds, amounting to 5 attempts.\n"
     ]
    },
    {
     "name": "stderr",
     "output_type": "stream",
     "text": [
      "\n"
     ]
    }
   ],
   "source": [
    "from dspy.teleprompt import BootstrapFewShot\n",
    "\n",
    "teleprompter = BootstrapFewShot(metric=validate_entities)\n",
    "\n",
    "compiled_ner = teleprompter.compile(ExtractFoodEntities(), trainset=trainset)"
   ]
  },
  {
   "cell_type": "code",
   "execution_count": 31,
   "id": "6f5c1e6a-16b1-4e6e-afd7-267f67c14382",
   "metadata": {},
   "outputs": [
    {
     "name": "stdout",
     "output_type": "stream",
     "text": [
      "FoodEntities(\n",
      "    entities=[\n",
      "        FoodEntity(\n",
      "            food='pork belly',\n",
      "            quantity=0,\n",
      "            unit='',\n",
      "            physical_quality='',\n",
      "            color='',\n",
      "        ),\n",
      "        FoodEntity(\n",
      "            food='cooking time',\n",
      "            quantity=2,\n",
      "            unit='hours',\n",
      "            physical_quality='tender',\n",
      "            color='',\n",
      "        ),\n",
      "        FoodEntity(\n",
      "            food='servings',\n",
      "            quantity=4,\n",
      "            unit='',\n",
      "            physical_quality='',\n",
      "            color='',\n",
      "        ),\n",
      "    ],\n",
      ")\n"
     ]
    }
   ],
   "source": [
    "pprint(compiled_ner(recipe=train_data))"
   ]
  },
  {
   "cell_type": "code",
   "execution_count": 33,
   "id": "ae3c91e4-0f26-493b-98e3-99c209afc2fe",
   "metadata": {},
   "outputs": [
    {
     "name": "stdout",
     "output_type": "stream",
     "text": [
      "\n",
      "\n",
      "\n",
      "\n",
      "\u001b[34m[2025-07-01T10:43:37.003440]\u001b[0m\n",
      "\n",
      "\u001b[31mSystem message:\u001b[0m\n",
      "\n",
      "Your input fields are:\n",
      "1. `recipe` (str):\n",
      "Your output fields are:\n",
      "1. `entities` (FoodEntities):\n",
      "All interactions will be structured in the following way, with the appropriate values filled in.\n",
      "\n",
      "Inputs will have the following structure:\n",
      "\n",
      "[[ ## recipe ## ]]\n",
      "{recipe}\n",
      "\n",
      "Outputs will be a JSON object with the following fields.\n",
      "\n",
      "{\n",
      "  \"entities\": \"{entities}        # note: the value you produce must adhere to the JSON schema: {\\\"type\\\": \\\"object\\\", \\\"$defs\\\": {\\\"FoodEntity\\\": {\\\"type\\\": \\\"object\\\", \\\"properties\\\": {\\\"color\\\": {\\\"type\\\": \\\"string\\\", \\\"description\\\": \\\"The color of the food\\\", \\\"title\\\": \\\"Color\\\"}, \\\"food\\\": {\\\"type\\\": \\\"string\\\", \\\"description\\\": \\\"This can be both liquid and solid food such as meat, vegetables, alcohol, etc\\\", \\\"title\\\": \\\"Food\\\"}, \\\"physical_quality\\\": {\\\"anyOf\\\": [{\\\"type\\\": \\\"string\\\"}, {\\\"type\\\": \\\"null\\\"}], \\\"description\\\": \\\"The characteristic of the ingredient\\\", \\\"title\\\": \\\"Physical Quality\\\"}, \\\"quantity\\\": {\\\"type\\\": \\\"integer\\\", \\\"description\\\": \\\"The exact quantity or amount of the food that should be used in the recipe\\\", \\\"title\\\": \\\"Quantity\\\"}, \\\"unit\\\": {\\\"type\\\": \\\"string\\\", \\\"description\\\": \\\"The unit being used e.g. grams, milliliters, pounds, etc\\\", \\\"title\\\": \\\"Unit\\\"}}, \\\"required\\\": [\\\"food\\\", \\\"quantity\\\", \\\"unit\\\", \\\"physical_quality\\\", \\\"color\\\"], \\\"title\\\": \\\"FoodEntity\\\"}}, \\\"properties\\\": {\\\"entities\\\": {\\\"type\\\": \\\"array\\\", \\\"items\\\": {\\\"$ref\\\": \\\"#/$defs/FoodEntity\\\"}, \\\"title\\\": \\\"Entities\\\"}}, \\\"required\\\": [\\\"entities\\\"], \\\"title\\\": \\\"FoodEntities\\\"}\"\n",
      "}\n",
      "In adhering to this structure, your objective is: \n",
      "        You are a food AI assistant. Your task is to extract food-related metadata from recipes.\n",
      "\n",
      "\n",
      "\u001b[31mUser message:\u001b[0m\n",
      "\n",
      "[[ ## recipe ## ]]\n",
      "American pancakes with 250g flour, 1 tsp baking powder, 1 gram salt, 10g sugar, 100ml fat milk\n",
      "\n",
      "\n",
      "\u001b[31mAssistant message:\u001b[0m\n",
      "\n",
      "{\n",
      "  \"entities\": [\n",
      "    {\n",
      "      \"food\": \"flour\",\n",
      "      \"quantity\": 250,\n",
      "      \"unit\": \"grams\",\n",
      "      \"physical_quality\": \"\",\n",
      "      \"color\": \"white\"\n",
      "    },\n",
      "    {\n",
      "      \"food\": \"baking powder\",\n",
      "      \"quantity\": 1,\n",
      "      \"unit\": \"tsp\",\n",
      "      \"physical_quality\": \"\",\n",
      "      \"color\": \"white\"\n",
      "    },\n",
      "    {\n",
      "      \"food\": \"salt\",\n",
      "      \"quantity\": 1,\n",
      "      \"unit\": \"grams\",\n",
      "      \"physical_quality\": \"salty\",\n",
      "      \"color\": \"white\"\n",
      "    },\n",
      "    {\n",
      "      \"food\": \"milk\",\n",
      "      \"quantity\": 100,\n",
      "      \"unit\": \"mil\",\n",
      "      \"physical_quality\": \"fat\",\n",
      "      \"color\": \"white\"\n",
      "    }\n",
      "  ]\n",
      "}\n",
      "\n",
      "\n",
      "\u001b[31mUser message:\u001b[0m\n",
      "\n",
      "[[ ## recipe ## ]]\n",
      "10 grams of dutch orange cheese, 2 liters of water, and 5 ml of ice\n",
      "\n",
      "\n",
      "\u001b[31mAssistant message:\u001b[0m\n",
      "\n",
      "{\n",
      "  \"entities\": [\n",
      "    {\n",
      "      \"food\": \"cheese\",\n",
      "      \"quantity\": 10,\n",
      "      \"unit\": \"grams\",\n",
      "      \"physical_quality\": \"\",\n",
      "      \"color\": \"orange\"\n",
      "    },\n",
      "    {\n",
      "      \"food\": \"water\",\n",
      "      \"quantity\": 2,\n",
      "      \"unit\": \"liters\",\n",
      "      \"physical_quality\": \"translucent\",\n",
      "      \"color\": \"\"\n",
      "    },\n",
      "    {\n",
      "      \"food\": \"ice\",\n",
      "      \"quantity\": 5,\n",
      "      \"unit\": \"militers\",\n",
      "      \"physical_quality\": \"cold\",\n",
      "      \"color\": \"white\"\n",
      "    }\n",
      "  ]\n",
      "}\n",
      "\n",
      "\n",
      "\u001b[31mUser message:\u001b[0m\n",
      "\n",
      "[[ ## recipe ## ]]\n",
      "French omelett with 2 eggs, 500grams of butter and 10 grams gruyere\n",
      "\n",
      "\n",
      "\u001b[31mAssistant message:\u001b[0m\n",
      "\n",
      "{\n",
      "  \"entities\": [\n",
      "    {\n",
      "      \"food\": \"eggs\",\n",
      "      \"quantity\": 2,\n",
      "      \"unit\": \"\",\n",
      "      \"physical_quality\": \"\",\n",
      "      \"color\": \"white\"\n",
      "    },\n",
      "    {\n",
      "      \"food\": \"butter\",\n",
      "      \"quantity\": 500,\n",
      "      \"unit\": \"grams\",\n",
      "      \"physical_quality\": \"\",\n",
      "      \"color\": \"yellow\"\n",
      "    },\n",
      "    {\n",
      "      \"food\": \"cheese\",\n",
      "      \"quantity\": 10,\n",
      "      \"unit\": \"grams\",\n",
      "      \"physical_quality\": \"gruyer\",\n",
      "      \"color\": \"yellow\"\n",
      "    }\n",
      "  ]\n",
      "}\n",
      "\n",
      "\n",
      "\u001b[31mUser message:\u001b[0m\n",
      "\n",
      "[[ ## recipe ## ]]\n",
      "200 grams of Ramen noodles bowel with one pickled egg, 500grams of pork, and 1 spring onion\n",
      "\n",
      "\n",
      "\u001b[31mAssistant message:\u001b[0m\n",
      "\n",
      "{\n",
      "  \"entities\": [\n",
      "    {\n",
      "      \"food\": \"egg\",\n",
      "      \"quantity\": 1,\n",
      "      \"unit\": \"\",\n",
      "      \"physical_quality\": \"pickled\",\n",
      "      \"color\": \"ivory\"\n",
      "    },\n",
      "    {\n",
      "      \"food\": \"ramen nudles\",\n",
      "      \"quantity\": 200,\n",
      "      \"unit\": \"grams\",\n",
      "      \"physical_quality\": \"\",\n",
      "      \"color\": \"yellow\"\n",
      "    },\n",
      "    {\n",
      "      \"food\": \"spring onion\",\n",
      "      \"quantity\": 1,\n",
      "      \"unit\": \"\",\n",
      "      \"physical_quality\": \"\",\n",
      "      \"color\": \"white\"\n",
      "    }\n",
      "  ]\n",
      "}\n",
      "\n",
      "\n",
      "\u001b[31mUser message:\u001b[0m\n",
      "\n",
      "[[ ## recipe ## ]]\n",
      "Pasta carbonara, 250 grams of pasta 300 grams of pancetta,         150 grams pecorino romano, 150grams parmesan cheese, 3 egg yolks\n",
      "\n",
      "\n",
      "\u001b[31mAssistant message:\u001b[0m\n",
      "\n",
      "{\n",
      "  \"entities\": [\n",
      "    {\n",
      "      \"food\": \"pasta\",\n",
      "      \"quantity\": 250,\n",
      "      \"unit\": \"grams\",\n",
      "      \"physical_quality\": \"dried\",\n",
      "      \"color\": \"yellow\"\n",
      "    },\n",
      "    {\n",
      "      \"food\": \"egg yolk\",\n",
      "      \"quantity\": 3,\n",
      "      \"unit\": \"\",\n",
      "      \"physical_quality\": \"\",\n",
      "      \"color\": \"orange\"\n",
      "    },\n",
      "    {\n",
      "      \"food\": \"pancetta\",\n",
      "      \"quantity\": 300,\n",
      "      \"unit\": \"grams\",\n",
      "      \"physical_quality\": \"pork\",\n",
      "      \"color\": \"\"\n",
      "    },\n",
      "    {\n",
      "      \"food\": \"pecorino\",\n",
      "      \"quantity\": 150,\n",
      "      \"unit\": \"grams\",\n",
      "      \"physical_quality\": \"goat chese\",\n",
      "      \"color\": \"yellow\"\n",
      "    },\n",
      "    {\n",
      "      \"food\": \"parmesan\",\n",
      "      \"quantity\": 150,\n",
      "      \"unit\": \"grams\",\n",
      "      \"physical_quality\": \"chese\",\n",
      "      \"color\": \"yellow\"\n",
      "    }\n",
      "  ]\n",
      "}\n",
      "\n",
      "\n",
      "\u001b[31mUser message:\u001b[0m\n",
      "\n",
      "[[ ## recipe ## ]]\n",
      "pork belly:\n",
      "{\n",
      "    \"reasoning\": \"The recipe is for Chashu pork, a classic Japanese dish.\",\n",
      "    \"value\": \"Chashu pork\",\n",
      "    \"entity\": \"pork belly\"\n",
      "}\n",
      "cooking time:\n",
      "{\n",
      "    \"reasoning\": \"The cooking time is 2 hours and 20 minutes, which allows the pork to become tender.\",\n",
      "    \"value\": \"2 hours 20 minutes\",\n",
      "    \"entity\": \"cooking time\"\n",
      "}\n",
      "servings:\n",
      "{\n",
      "    \"reasoning\": \"The recipe serves 4 or more people, depending on how much is used.\",\n",
      "    \"value\": \"4 or more\",\n",
      "    \"entity\": \"servings\"\n",
      "}\n",
      "\n",
      "\n",
      "Respond with a JSON object in the following order of fields: `entities` (must be formatted as a valid Python FoodEntities).\n",
      "\n",
      "\n",
      "\u001b[31mResponse:\u001b[0m\n",
      "\n",
      "\u001b[32m{\n",
      "  \"entities\": {\n",
      "    \"entities\": [\n",
      "      {\n",
      "        \"food\": \"pork belly\",\n",
      "        \"quantity\": 0,\n",
      "        \"unit\": \"\",\n",
      "        \"physical_quality\": \"\",\n",
      "        \"color\": \"\"\n",
      "      },\n",
      "      {\n",
      "        \"food\": \"cooking time\",\n",
      "        \"quantity\": 2,\n",
      "        \"unit\": \"hours\",\n",
      "        \"physical_quality\": \"tender\",\n",
      "        \"color\": \"\"\n",
      "      },\n",
      "      {\n",
      "        \"food\": \"servings\",\n",
      "        \"quantity\": 4,\n",
      "        \"unit\": \"\",\n",
      "        \"physical_quality\": \"\",\n",
      "        \"color\": \"\"\n",
      "      }\n",
      "    ]\n",
      "  }\n",
      "}\u001b[0m\n",
      "\n",
      "\n",
      "\n",
      "\n",
      "\n"
     ]
    }
   ],
   "source": [
    "lm.inspect_history(n=1)"
   ]
  },
  {
   "cell_type": "code",
   "execution_count": null,
   "id": "d62f3e53-2a7d-49e9-aaf8-63e60538a229",
   "metadata": {},
   "outputs": [],
   "source": []
  }
 ],
 "metadata": {
  "kernelspec": {
   "display_name": "Python 3 (ipykernel)",
   "language": "python",
   "name": "python3"
  },
  "language_info": {
   "codemirror_mode": {
    "name": "ipython",
    "version": 3
   },
   "file_extension": ".py",
   "mimetype": "text/x-python",
   "name": "python",
   "nbconvert_exporter": "python",
   "pygments_lexer": "ipython3",
   "version": "3.11.13"
  }
 },
 "nbformat": 4,
 "nbformat_minor": 5
}
